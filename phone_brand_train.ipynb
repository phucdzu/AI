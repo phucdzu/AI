{
  "nbformat": 4,
  "nbformat_minor": 0,
  "metadata": {
    "colab": {
      "provenance": [],
      "gpuType": "T4",
      "include_colab_link": true
    },
    "kernelspec": {
      "name": "python3",
      "display_name": "Python 3"
    },
    "language_info": {
      "name": "python"
    },
    "accelerator": "GPU",
    "gpuClass": "standard"
  },
  "cells": [
    {
      "cell_type": "markdown",
      "metadata": {
        "id": "view-in-github",
        "colab_type": "text"
      },
      "source": [
        "<a href=\"https://colab.research.google.com/github/phucdzu/AI/blob/main/phone_brand_train.ipynb\" target=\"_parent\"><img src=\"https://colab.research.google.com/assets/colab-badge.svg\" alt=\"Open In Colab\"/></a>"
      ]
    },
    {
      "cell_type": "code",
      "execution_count": null,
      "metadata": {
        "colab": {
          "base_uri": "https://localhost:8080/"
        },
        "id": "lpIoNrG4Swcv",
        "outputId": "9868d196-ae40-4720-d60b-8773abaf28e8"
      },
      "outputs": [
        {
          "output_type": "stream",
          "name": "stdout",
          "text": [
            "Mounted at /content/drive\n"
          ]
        }
      ],
      "source": [
        "from google.colab import drive\n",
        "drive.mount('/content/drive')"
      ]
    },
    {
      "cell_type": "code",
      "source": [
        "from os import listdir\n",
        "from numpy import asarray\n",
        "from numpy import save\n",
        "from keras.utils.image_utils import img_to_array\n",
        "from keras.utils import load_img"
      ],
      "metadata": {
        "id": "hBkvrMZoTLTP"
      },
      "execution_count": null,
      "outputs": []
    },
    {
      "cell_type": "code",
      "source": [
        "folder = '/content/drive/MyDrive/final/data/'\n",
        "photos, labels = list(), list()\n",
        "for file in listdir(folder):\n",
        "  output = 0.0\n",
        "  if file.startswith('iphone'):\n",
        "    output = 1.0  #'iphone'\n",
        "  if file.startswith('samsung'):\n",
        "    output = 2.0  #'samsung'\n",
        "  if file.startswith('oppo'):\n",
        "    output = 3.0  #'oppo'\n",
        "  if file.startswith('xiaomi'):\n",
        "    output = 4.0  #'xiaomi'\n",
        "  if file.startswith('nokia'):\n",
        "    output = 5.0  #'nokia'\n",
        "  photo = load_img (folder+file, target_size= (64,64))\n",
        "  photo = img_to_array (photo)\n",
        "  photos.append(photo)\n",
        "  labels.append(output)\n",
        "photos = asarray(photos)\n",
        "labels = asarray(labels)\n",
        "save('/content/drive/MyDrive/final/phone_brand_photo.npy', photos)\n",
        "save('/content/drive/MyDrive/final/phone_brand_label.npy', labels)"
      ],
      "metadata": {
        "id": "VUL2PuvmTOsc",
        "colab": {
          "base_uri": "https://localhost:8080/"
        },
        "outputId": "54afdeb5-30ae-4a4a-8d1b-8270bfde394d"
      },
      "execution_count": null,
      "outputs": [
        {
          "output_type": "stream",
          "name": "stderr",
          "text": [
            "/usr/local/lib/python3.10/dist-packages/PIL/Image.py:975: UserWarning: Palette images with Transparency expressed in bytes should be converted to RGBA images\n",
            "  warnings.warn(\n"
          ]
        }
      ]
    },
    {
      "cell_type": "code",
      "source": [
        "import numpy as np\n",
        "import pandas as pd\n",
        "import matplotlib.pyplot as plt\n",
        "import seaborn as sns"
      ],
      "metadata": {
        "id": "Z0kzBZ9gTt03"
      },
      "execution_count": null,
      "outputs": []
    },
    {
      "cell_type": "code",
      "source": [
        "#load lại giá trị mới \n",
        "photo = np.load('/content/drive/MyDrive/final/phone_brand_photo.npy')\n",
        "label = np.load('/content/drive/MyDrive/final/phone_brand_label.npy')"
      ],
      "metadata": {
        "id": "IGaXbjzoTv2Z"
      },
      "execution_count": null,
      "outputs": []
    },
    {
      "cell_type": "code",
      "source": [
        "split_index = int(0.2*len(photo))\n",
        "test_X,test_Y = photo[:split_index],label[:split_index]\n",
        "train_X, train_Y = photo[split_index:],label[split_index:]"
      ],
      "metadata": {
        "id": "N7cQILVUT40k"
      },
      "execution_count": null,
      "outputs": []
    },
    {
      "cell_type": "code",
      "source": [
        "print('Train:',train_X.shape)\n",
        "print('Test:',test_X.shape)"
      ],
      "metadata": {
        "colab": {
          "base_uri": "https://localhost:8080/"
        },
        "id": "JaGb5KwVT4t8",
        "outputId": "d4db9689-00dd-41c5-b27b-06445c15424f"
      },
      "execution_count": null,
      "outputs": [
        {
          "output_type": "stream",
          "name": "stdout",
          "text": [
            "Train: (356, 64, 64, 3)\n",
            "Test: (89, 64, 64, 3)\n"
          ]
        }
      ]
    },
    {
      "cell_type": "code",
      "source": [
        "train_X = train_X.reshape((356,64,64,3))\n",
        "train_X = train_X.astype('float32')/255\n",
        "test_X = test_X.reshape((89,64,64,3))\n",
        "test_X = test_X.astype('float32')/255"
      ],
      "metadata": {
        "id": "t2Lqrrg4T9PE"
      },
      "execution_count": null,
      "outputs": []
    },
    {
      "cell_type": "code",
      "source": [
        "from keras.utils import to_categorical\n",
        "train_Y = to_categorical(train_Y,6)\n",
        "test_Y = to_categorical(test_Y,6)"
      ],
      "metadata": {
        "id": "mrl_JcyoUERS"
      },
      "execution_count": null,
      "outputs": []
    },
    {
      "cell_type": "code",
      "source": [
        "from keras.models import Sequential\n",
        "from keras.models import Sequential, Model\n",
        "from keras.layers import Dense, Flatten, Dropout, Conv2D, MaxPooling2D, Normalization\n",
        "from keras.optimizers import Adam\n",
        "from keras.layers import LeakyReLU"
      ],
      "metadata": {
        "id": "OL059yfuUInq"
      },
      "execution_count": null,
      "outputs": []
    },
    {
      "cell_type": "code",
      "source": [
        "batch_size = 10\n",
        "epochs = 100\n",
        "classes = 6"
      ],
      "metadata": {
        "id": "F1kBN0yQUK0B"
      },
      "execution_count": null,
      "outputs": []
    },
    {
      "cell_type": "code",
      "source": [
        "model = Sequential()\n",
        "model.add(Conv2D(32, kernel_size= (3,3), activation= 'linear', input_shape= (64,64,3), padding= 'same'))\n",
        "model.add(LeakyReLU(alpha= 0.1))\n",
        "model.add(MaxPooling2D((2,2), padding= 'same'))\n",
        "\n",
        "model.add(Conv2D(64,(3,3), activation= 'linear', padding= 'same'))\n",
        "model.add(LeakyReLU(alpha= 0.1))\n",
        "model.add(MaxPooling2D((2,2), padding= 'same'))\n",
        "\n",
        "model.add(Conv2D(128,(3,3), activation= 'linear', padding= 'same'))\n",
        "model.add(LeakyReLU(alpha= 0.1))\n",
        "model.add(MaxPooling2D((2,2), padding= 'same'))\n",
        "\n",
        "model.add(Flatten())\n",
        "model.add(Dense(128, activation= 'linear'))\n",
        "model.add(LeakyReLU(alpha= 0.1))\n",
        "model.add(Dense(classes, activation= 'softmax'))\n",
        "model.summary()"
      ],
      "metadata": {
        "colab": {
          "base_uri": "https://localhost:8080/"
        },
        "id": "-aNAAWkKUPtY",
        "outputId": "93ebe9ff-1afd-4834-e51b-ef1c2ccdcda8"
      },
      "execution_count": null,
      "outputs": [
        {
          "output_type": "stream",
          "name": "stdout",
          "text": [
            "Model: \"sequential\"\n",
            "_________________________________________________________________\n",
            " Layer (type)                Output Shape              Param #   \n",
            "=================================================================\n",
            " conv2d (Conv2D)             (None, 64, 64, 32)        896       \n",
            "                                                                 \n",
            " leaky_re_lu (LeakyReLU)     (None, 64, 64, 32)        0         \n",
            "                                                                 \n",
            " max_pooling2d (MaxPooling2D  (None, 32, 32, 32)       0         \n",
            " )                                                               \n",
            "                                                                 \n",
            " conv2d_1 (Conv2D)           (None, 32, 32, 64)        18496     \n",
            "                                                                 \n",
            " leaky_re_lu_1 (LeakyReLU)   (None, 32, 32, 64)        0         \n",
            "                                                                 \n",
            " max_pooling2d_1 (MaxPooling  (None, 16, 16, 64)       0         \n",
            " 2D)                                                             \n",
            "                                                                 \n",
            " conv2d_2 (Conv2D)           (None, 16, 16, 128)       73856     \n",
            "                                                                 \n",
            " leaky_re_lu_2 (LeakyReLU)   (None, 16, 16, 128)       0         \n",
            "                                                                 \n",
            " max_pooling2d_2 (MaxPooling  (None, 8, 8, 128)        0         \n",
            " 2D)                                                             \n",
            "                                                                 \n",
            " flatten (Flatten)           (None, 8192)              0         \n",
            "                                                                 \n",
            " dense (Dense)               (None, 128)               1048704   \n",
            "                                                                 \n",
            " leaky_re_lu_3 (LeakyReLU)   (None, 128)               0         \n",
            "                                                                 \n",
            " dense_1 (Dense)             (None, 6)                 774       \n",
            "                                                                 \n",
            "=================================================================\n",
            "Total params: 1,142,726\n",
            "Trainable params: 1,142,726\n",
            "Non-trainable params: 0\n",
            "_________________________________________________________________\n"
          ]
        }
      ]
    },
    {
      "cell_type": "code",
      "source": [
        "from keras.losses import categorical_crossentropy\n",
        "model.compile(optimizer= Adam(), loss= categorical_crossentropy, metrics= ['accuracy'])\n",
        "train = model.fit(train_X, train_Y, epochs= epochs, batch_size= batch_size, verbose= 1)"
      ],
      "metadata": {
        "colab": {
          "base_uri": "https://localhost:8080/"
        },
        "id": "dN_UQ2tZUTj3",
        "outputId": "41574b24-6457-4096-f30f-f2bd1e99d2c9"
      },
      "execution_count": null,
      "outputs": [
        {
          "output_type": "stream",
          "name": "stdout",
          "text": [
            "Epoch 1/100\n",
            "36/36 [==============================] - 10s 9ms/step - loss: 1.6109 - accuracy: 0.2669\n",
            "Epoch 2/100\n",
            "36/36 [==============================] - 0s 4ms/step - loss: 1.2506 - accuracy: 0.4270\n",
            "Epoch 3/100\n",
            "36/36 [==============================] - 0s 4ms/step - loss: 0.9328 - accuracy: 0.6264\n",
            "Epoch 4/100\n",
            "36/36 [==============================] - 0s 4ms/step - loss: 0.7231 - accuracy: 0.7163\n",
            "Epoch 5/100\n",
            "36/36 [==============================] - 0s 4ms/step - loss: 0.4219 - accuracy: 0.8567\n",
            "Epoch 6/100\n",
            "36/36 [==============================] - 0s 4ms/step - loss: 0.3041 - accuracy: 0.8933\n",
            "Epoch 7/100\n",
            "36/36 [==============================] - 0s 4ms/step - loss: 0.1486 - accuracy: 0.9494\n",
            "Epoch 8/100\n",
            "36/36 [==============================] - 0s 4ms/step - loss: 0.1958 - accuracy: 0.9382\n",
            "Epoch 9/100\n",
            "36/36 [==============================] - 0s 4ms/step - loss: 0.0662 - accuracy: 0.9803\n",
            "Epoch 10/100\n",
            "36/36 [==============================] - 0s 4ms/step - loss: 0.0283 - accuracy: 0.9888\n",
            "Epoch 11/100\n",
            "36/36 [==============================] - 0s 4ms/step - loss: 0.0464 - accuracy: 0.9888\n",
            "Epoch 12/100\n",
            "36/36 [==============================] - 0s 4ms/step - loss: 0.0771 - accuracy: 0.9747\n",
            "Epoch 13/100\n",
            "36/36 [==============================] - 0s 4ms/step - loss: 0.0252 - accuracy: 0.9916\n",
            "Epoch 14/100\n",
            "36/36 [==============================] - 0s 4ms/step - loss: 0.0499 - accuracy: 0.9916\n",
            "Epoch 15/100\n",
            "36/36 [==============================] - 0s 4ms/step - loss: 0.0064 - accuracy: 1.0000\n",
            "Epoch 16/100\n",
            "36/36 [==============================] - 0s 4ms/step - loss: 0.0012 - accuracy: 1.0000\n",
            "Epoch 17/100\n",
            "36/36 [==============================] - 0s 4ms/step - loss: 6.3022e-04 - accuracy: 1.0000\n",
            "Epoch 18/100\n",
            "36/36 [==============================] - 0s 4ms/step - loss: 4.8880e-04 - accuracy: 1.0000\n",
            "Epoch 19/100\n",
            "36/36 [==============================] - 0s 4ms/step - loss: 3.9382e-04 - accuracy: 1.0000\n",
            "Epoch 20/100\n",
            "36/36 [==============================] - 0s 4ms/step - loss: 3.3274e-04 - accuracy: 1.0000\n",
            "Epoch 21/100\n",
            "36/36 [==============================] - 0s 4ms/step - loss: 2.8768e-04 - accuracy: 1.0000\n",
            "Epoch 22/100\n",
            "36/36 [==============================] - 0s 4ms/step - loss: 2.5137e-04 - accuracy: 1.0000\n",
            "Epoch 23/100\n",
            "36/36 [==============================] - 0s 4ms/step - loss: 2.2156e-04 - accuracy: 1.0000\n",
            "Epoch 24/100\n",
            "36/36 [==============================] - 0s 4ms/step - loss: 1.9873e-04 - accuracy: 1.0000\n",
            "Epoch 25/100\n",
            "36/36 [==============================] - 0s 4ms/step - loss: 1.7960e-04 - accuracy: 1.0000\n",
            "Epoch 26/100\n",
            "36/36 [==============================] - 0s 4ms/step - loss: 1.6209e-04 - accuracy: 1.0000\n",
            "Epoch 27/100\n",
            "36/36 [==============================] - 0s 4ms/step - loss: 1.4822e-04 - accuracy: 1.0000\n",
            "Epoch 28/100\n",
            "36/36 [==============================] - 0s 6ms/step - loss: 1.3525e-04 - accuracy: 1.0000\n",
            "Epoch 29/100\n",
            "36/36 [==============================] - 0s 5ms/step - loss: 1.2440e-04 - accuracy: 1.0000\n",
            "Epoch 30/100\n",
            "36/36 [==============================] - 0s 5ms/step - loss: 1.1597e-04 - accuracy: 1.0000\n",
            "Epoch 31/100\n",
            "36/36 [==============================] - 0s 5ms/step - loss: 1.0702e-04 - accuracy: 1.0000\n",
            "Epoch 32/100\n",
            "36/36 [==============================] - 0s 5ms/step - loss: 9.9719e-05 - accuracy: 1.0000\n",
            "Epoch 33/100\n",
            "36/36 [==============================] - 0s 5ms/step - loss: 9.2888e-05 - accuracy: 1.0000\n",
            "Epoch 34/100\n",
            "36/36 [==============================] - 0s 5ms/step - loss: 8.6510e-05 - accuracy: 1.0000\n",
            "Epoch 35/100\n",
            "36/36 [==============================] - 0s 6ms/step - loss: 8.1235e-05 - accuracy: 1.0000\n",
            "Epoch 36/100\n",
            "36/36 [==============================] - 0s 5ms/step - loss: 7.6521e-05 - accuracy: 1.0000\n",
            "Epoch 37/100\n",
            "36/36 [==============================] - 0s 5ms/step - loss: 7.1394e-05 - accuracy: 1.0000\n",
            "Epoch 38/100\n",
            "36/36 [==============================] - 0s 5ms/step - loss: 6.7539e-05 - accuracy: 1.0000\n",
            "Epoch 39/100\n",
            "36/36 [==============================] - 0s 5ms/step - loss: 6.3867e-05 - accuracy: 1.0000\n",
            "Epoch 40/100\n",
            "36/36 [==============================] - 0s 5ms/step - loss: 6.0303e-05 - accuracy: 1.0000\n",
            "Epoch 41/100\n",
            "36/36 [==============================] - 0s 4ms/step - loss: 5.7163e-05 - accuracy: 1.0000\n",
            "Epoch 42/100\n",
            "36/36 [==============================] - 0s 5ms/step - loss: 5.4043e-05 - accuracy: 1.0000\n",
            "Epoch 43/100\n",
            "36/36 [==============================] - 0s 5ms/step - loss: 5.1357e-05 - accuracy: 1.0000\n",
            "Epoch 44/100\n",
            "36/36 [==============================] - 0s 5ms/step - loss: 4.8842e-05 - accuracy: 1.0000\n",
            "Epoch 45/100\n",
            "36/36 [==============================] - 0s 5ms/step - loss: 4.6305e-05 - accuracy: 1.0000\n",
            "Epoch 46/100\n",
            "36/36 [==============================] - 0s 5ms/step - loss: 4.4125e-05 - accuracy: 1.0000\n",
            "Epoch 47/100\n",
            "36/36 [==============================] - 0s 5ms/step - loss: 4.2015e-05 - accuracy: 1.0000\n",
            "Epoch 48/100\n",
            "36/36 [==============================] - 0s 4ms/step - loss: 4.0115e-05 - accuracy: 1.0000\n",
            "Epoch 49/100\n",
            "36/36 [==============================] - 0s 4ms/step - loss: 3.8343e-05 - accuracy: 1.0000\n",
            "Epoch 50/100\n",
            "36/36 [==============================] - 0s 4ms/step - loss: 3.6631e-05 - accuracy: 1.0000\n",
            "Epoch 51/100\n",
            "36/36 [==============================] - 0s 4ms/step - loss: 3.5074e-05 - accuracy: 1.0000\n",
            "Epoch 52/100\n",
            "36/36 [==============================] - 0s 5ms/step - loss: 3.3603e-05 - accuracy: 1.0000\n",
            "Epoch 53/100\n",
            "36/36 [==============================] - 0s 4ms/step - loss: 3.2234e-05 - accuracy: 1.0000\n",
            "Epoch 54/100\n",
            "36/36 [==============================] - 0s 4ms/step - loss: 3.0911e-05 - accuracy: 1.0000\n",
            "Epoch 55/100\n",
            "36/36 [==============================] - 0s 4ms/step - loss: 2.9650e-05 - accuracy: 1.0000\n",
            "Epoch 56/100\n",
            "36/36 [==============================] - 0s 4ms/step - loss: 2.8449e-05 - accuracy: 1.0000\n",
            "Epoch 57/100\n",
            "36/36 [==============================] - 0s 4ms/step - loss: 2.7434e-05 - accuracy: 1.0000\n",
            "Epoch 58/100\n",
            "36/36 [==============================] - 0s 4ms/step - loss: 2.6320e-05 - accuracy: 1.0000\n",
            "Epoch 59/100\n",
            "36/36 [==============================] - 0s 4ms/step - loss: 2.5269e-05 - accuracy: 1.0000\n",
            "Epoch 60/100\n",
            "36/36 [==============================] - 0s 4ms/step - loss: 2.4339e-05 - accuracy: 1.0000\n",
            "Epoch 61/100\n",
            "36/36 [==============================] - 0s 4ms/step - loss: 2.3398e-05 - accuracy: 1.0000\n",
            "Epoch 62/100\n",
            "36/36 [==============================] - 0s 4ms/step - loss: 2.2558e-05 - accuracy: 1.0000\n",
            "Epoch 63/100\n",
            "36/36 [==============================] - 0s 5ms/step - loss: 2.1715e-05 - accuracy: 1.0000\n",
            "Epoch 64/100\n",
            "36/36 [==============================] - 0s 5ms/step - loss: 2.0944e-05 - accuracy: 1.0000\n",
            "Epoch 65/100\n",
            "36/36 [==============================] - 0s 5ms/step - loss: 2.0220e-05 - accuracy: 1.0000\n",
            "Epoch 66/100\n",
            "36/36 [==============================] - 0s 5ms/step - loss: 1.9514e-05 - accuracy: 1.0000\n",
            "Epoch 67/100\n",
            "36/36 [==============================] - 0s 4ms/step - loss: 1.8829e-05 - accuracy: 1.0000\n",
            "Epoch 68/100\n",
            "36/36 [==============================] - 0s 4ms/step - loss: 1.8169e-05 - accuracy: 1.0000\n",
            "Epoch 69/100\n",
            "36/36 [==============================] - 0s 4ms/step - loss: 1.7535e-05 - accuracy: 1.0000\n",
            "Epoch 70/100\n",
            "36/36 [==============================] - 0s 5ms/step - loss: 1.7034e-05 - accuracy: 1.0000\n",
            "Epoch 71/100\n",
            "36/36 [==============================] - 0s 4ms/step - loss: 1.6479e-05 - accuracy: 1.0000\n",
            "Epoch 72/100\n",
            "36/36 [==============================] - 0s 4ms/step - loss: 1.5867e-05 - accuracy: 1.0000\n",
            "Epoch 73/100\n",
            "36/36 [==============================] - 0s 4ms/step - loss: 1.5374e-05 - accuracy: 1.0000\n",
            "Epoch 74/100\n",
            "36/36 [==============================] - 0s 4ms/step - loss: 1.4902e-05 - accuracy: 1.0000\n",
            "Epoch 75/100\n",
            "36/36 [==============================] - 0s 4ms/step - loss: 1.4411e-05 - accuracy: 1.0000\n",
            "Epoch 76/100\n",
            "36/36 [==============================] - 0s 5ms/step - loss: 1.3943e-05 - accuracy: 1.0000\n",
            "Epoch 77/100\n",
            "36/36 [==============================] - 0s 4ms/step - loss: 1.3547e-05 - accuracy: 1.0000\n",
            "Epoch 78/100\n",
            "36/36 [==============================] - 0s 5ms/step - loss: 1.3097e-05 - accuracy: 1.0000\n",
            "Epoch 79/100\n",
            "36/36 [==============================] - 0s 4ms/step - loss: 1.2703e-05 - accuracy: 1.0000\n",
            "Epoch 80/100\n",
            "36/36 [==============================] - 0s 4ms/step - loss: 1.2325e-05 - accuracy: 1.0000\n",
            "Epoch 81/100\n",
            "36/36 [==============================] - 0s 4ms/step - loss: 1.1949e-05 - accuracy: 1.0000\n",
            "Epoch 82/100\n",
            "36/36 [==============================] - 0s 5ms/step - loss: 1.1609e-05 - accuracy: 1.0000\n",
            "Epoch 83/100\n",
            "36/36 [==============================] - 0s 4ms/step - loss: 1.1228e-05 - accuracy: 1.0000\n",
            "Epoch 84/100\n",
            "36/36 [==============================] - 0s 4ms/step - loss: 1.0925e-05 - accuracy: 1.0000\n",
            "Epoch 85/100\n",
            "36/36 [==============================] - 0s 4ms/step - loss: 1.0616e-05 - accuracy: 1.0000\n",
            "Epoch 86/100\n",
            "36/36 [==============================] - 0s 4ms/step - loss: 1.0308e-05 - accuracy: 1.0000\n",
            "Epoch 87/100\n",
            "36/36 [==============================] - 0s 4ms/step - loss: 1.0025e-05 - accuracy: 1.0000\n",
            "Epoch 88/100\n",
            "36/36 [==============================] - 0s 4ms/step - loss: 9.7394e-06 - accuracy: 1.0000\n",
            "Epoch 89/100\n",
            "36/36 [==============================] - 0s 5ms/step - loss: 9.4420e-06 - accuracy: 1.0000\n",
            "Epoch 90/100\n",
            "36/36 [==============================] - 0s 4ms/step - loss: 9.1983e-06 - accuracy: 1.0000\n",
            "Epoch 91/100\n",
            "36/36 [==============================] - 0s 5ms/step - loss: 8.9418e-06 - accuracy: 1.0000\n",
            "Epoch 92/100\n",
            "36/36 [==============================] - 0s 4ms/step - loss: 8.6806e-06 - accuracy: 1.0000\n",
            "Epoch 93/100\n",
            "36/36 [==============================] - 0s 4ms/step - loss: 8.4543e-06 - accuracy: 1.0000\n",
            "Epoch 94/100\n",
            "36/36 [==============================] - 0s 4ms/step - loss: 8.2262e-06 - accuracy: 1.0000\n",
            "Epoch 95/100\n",
            "36/36 [==============================] - 0s 5ms/step - loss: 8.0304e-06 - accuracy: 1.0000\n",
            "Epoch 96/100\n",
            "36/36 [==============================] - 0s 4ms/step - loss: 7.7842e-06 - accuracy: 1.0000\n",
            "Epoch 97/100\n",
            "36/36 [==============================] - 0s 4ms/step - loss: 7.5622e-06 - accuracy: 1.0000\n",
            "Epoch 98/100\n",
            "36/36 [==============================] - 0s 5ms/step - loss: 7.3670e-06 - accuracy: 1.0000\n",
            "Epoch 99/100\n",
            "36/36 [==============================] - 0s 4ms/step - loss: 7.1748e-06 - accuracy: 1.0000\n",
            "Epoch 100/100\n",
            "36/36 [==============================] - 0s 4ms/step - loss: 6.9900e-06 - accuracy: 1.0000\n"
          ]
        }
      ]
    },
    {
      "cell_type": "code",
      "source": [
        "model.save('/content/drive/MyDrive/final/phone_brand_cnn.h5')"
      ],
      "metadata": {
        "id": "BUzaBwgOUWPe"
      },
      "execution_count": null,
      "outputs": []
    }
  ]
}